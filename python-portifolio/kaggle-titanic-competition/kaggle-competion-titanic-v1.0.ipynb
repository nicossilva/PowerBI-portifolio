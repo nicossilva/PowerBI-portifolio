{
 "cells": [
  {
   "cell_type": "markdown",
   "metadata": {},
   "source": [
    "### Kaggle Titanic Competion\n",
    "\n",
    "Project for kaggle competion to predict death in Titanic disaster using basic machine learing tools.\n"
   ]
  },
  {
   "cell_type": "markdown",
   "metadata": {},
   "source": [
    "#### Library"
   ]
  },
  {
   "cell_type": "code",
   "execution_count": 1,
   "metadata": {},
   "outputs": [],
   "source": [
    "import pandas as pd #import pandas for data processing\n",
    "import numpy as np #import numpy for linear algebra\n",
    "from sklearn.ensemble import RandomForestClassifier #import ml model\n",
    "from sklearn.metrics import accuracy_score #import ml model accuracy score"
   ]
  },
  {
   "cell_type": "markdown",
   "metadata": {},
   "source": [
    "#### Loading Data"
   ]
  },
  {
   "cell_type": "code",
   "execution_count": 5,
   "metadata": {},
   "outputs": [
    {
     "name": "stdout",
     "output_type": "stream",
     "text": [
      "<class 'pandas.core.frame.DataFrame'>\n",
      "RangeIndex: 418 entries, 0 to 417\n",
      "Data columns (total 11 columns):\n",
      " #   Column       Non-Null Count  Dtype  \n",
      "---  ------       --------------  -----  \n",
      " 0   PassengerId  418 non-null    int64  \n",
      " 1   Pclass       418 non-null    int64  \n",
      " 2   Name         418 non-null    object \n",
      " 3   Sex          418 non-null    object \n",
      " 4   Age          332 non-null    float64\n",
      " 5   SibSp        418 non-null    int64  \n",
      " 6   Parch        418 non-null    int64  \n",
      " 7   Ticket       418 non-null    object \n",
      " 8   Fare         417 non-null    float64\n",
      " 9   Cabin        91 non-null     object \n",
      " 10  Embarked     418 non-null    object \n",
      "dtypes: float64(2), int64(4), object(5)\n",
      "memory usage: 36.0+ KB\n"
     ]
    }
   ],
   "source": [
    "train_df = pd.read_csv(\n",
    "    'C:/Users/nicol/Documents/GitHub/projects-portifolio/python-portifolio/kaggle-titanic-competition/train.csv') #loading train dataset\n",
    "\n",
    "test_df = pd.read_csv(\n",
    "    'C:/Users/nicol/Documents/GitHub/projects-portifolio/python-portifolio/kaggle-titanic-competition/test.csv') #loading test dataset\n",
    "#test_df.info()"
   ]
  },
  {
   "cell_type": "markdown",
   "metadata": {},
   "source": [
    "#### Machine Learning Model"
   ]
  },
  {
   "cell_type": "code",
   "execution_count": 3,
   "metadata": {},
   "outputs": [
    {
     "name": "stderr",
     "output_type": "stream",
     "text": [
      "<ipython-input-3-3ea6e1a86c73>:12: SettingWithCopyWarning: \n",
      "A value is trying to be set on a copy of a slice from a DataFrame\n",
      "\n",
      "See the caveats in the documentation: https://pandas.pydata.org/pandas-docs/stable/user_guide/indexing.html#returning-a-view-versus-a-copy\n",
      "  train_modified_df['Age'][i] = train_modified_df['Age'].mean()\n"
     ]
    },
    {
     "name": "stdout",
     "output_type": "stream",
     "text": [
      "0.8518518518518519\n"
     ]
    }
   ],
   "source": [
    "# Define the ml model\n",
    "titanic_classifier_model = RandomForestClassifier(\n",
    "    random_state=2)  # using RandomForest model\n",
    "\n",
    "# Defining data for ml model\n",
    "train_modified_df = train_df\n",
    "features = ['Pclass', 'Age', 'SibSp', 'Parch']\n",
    "\n",
    "# Handling missing values in Age data\n",
    "for i in range(len(train_modified_df['Age'])):\n",
    "    if pd.isna(train_modified_df['Age'][i]):\n",
    "        train_modified_df['Age'][i] = train_modified_df['Age'].mean()\n",
    "\n",
    "train_modified_df.tail()\n",
    "# define the variables to be used in ml model\n",
    "train_X = train_modified_df[features]\n",
    "train_y = train_modified_df['Survived']  # define the variable to be predict\n",
    "\n",
    "# Fitting model\n",
    "titanic_classifier_model.fit(train_X, train_y)  # fit the model for train data\n",
    "prediction_train_y = titanic_classifier_model.predict(\n",
    "    train_X)  # predict values for train dataset\n",
    "# check accuracy of the model\n",
    "error = accuracy_score(train_y, prediction_train_y)\n",
    "print(error)"
   ]
  },
  {
   "cell_type": "code",
   "execution_count": 4,
   "metadata": {},
   "outputs": [
    {
     "name": "stderr",
     "output_type": "stream",
     "text": [
      "<ipython-input-4-86714b6e4d38>:9: SettingWithCopyWarning: \n",
      "A value is trying to be set on a copy of a slice from a DataFrame\n",
      "\n",
      "See the caveats in the documentation: https://pandas.pydata.org/pandas-docs/stable/user_guide/indexing.html#returning-a-view-versus-a-copy\n",
      "  test_modified_df['Age'][i] = test_modified_df['Age'].mean()\n"
     ]
    }
   ],
   "source": [
    "# Applying model to test dataset\n",
    "\n",
    "# Defining data for ml model\n",
    "test_modified_df = test_df\n",
    "\n",
    "# Handling missing values in Age data\n",
    "for i in range(len(test_modified_df['Age'])):\n",
    "    if pd.isna(test_modified_df['Age'][i]):\n",
    "        test_modified_df['Age'][i] = test_modified_df['Age'].mean()\n",
    "actual_X = test_modified_df[features]\n",
    "predict_y = titanic_classifier_model.predict(actual_X)\n",
    "\n",
    "# Saving the results\n",
    "final_result = pd.DataFrame(\n",
    "    {'PassengerId': test_df.PassengerId, 'Survived': predict_y})\n",
    "final_result.to_csv('titanic-prediction-submission.csv', index=False)"
   ]
  }
 ],
 "metadata": {
  "kernelspec": {
   "display_name": "Python 3",
   "language": "python",
   "name": "python3"
  },
  "language_info": {
   "codemirror_mode": {
    "name": "ipython",
    "version": 3
   },
   "file_extension": ".py",
   "mimetype": "text/x-python",
   "name": "python",
   "nbconvert_exporter": "python",
   "pygments_lexer": "ipython3",
   "version": "3.8.5"
  },
  "toc": {
   "base_numbering": 1,
   "nav_menu": {},
   "number_sections": true,
   "sideBar": true,
   "skip_h1_title": false,
   "title_cell": "Table of Contents",
   "title_sidebar": "Contents",
   "toc_cell": false,
   "toc_position": {},
   "toc_section_display": true,
   "toc_window_display": false
  }
 },
 "nbformat": 4,
 "nbformat_minor": 4
}
